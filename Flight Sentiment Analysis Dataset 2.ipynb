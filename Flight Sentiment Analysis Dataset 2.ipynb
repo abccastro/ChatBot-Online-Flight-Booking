{
 "cells": [
  {
   "cell_type": "markdown",
   "metadata": {},
   "source": [
    "# __Flight Sentiment Analysis__"
   ]
  },
  {
   "cell_type": "code",
   "execution_count": 1,
   "metadata": {},
   "outputs": [
    {
     "name": "stderr",
     "output_type": "stream",
     "text": [
      "[nltk_data] Downloading package vader_lexicon to\n",
      "[nltk_data]     C:\\Users\\aurad\\AppData\\Roaming\\nltk_data...\n",
      "[nltk_data]   Package vader_lexicon is already up-to-date!\n"
     ]
    }
   ],
   "source": [
    "import pandas as pd\n",
    "import numpy as np\n",
    "import re\n",
    "import contractions\n",
    "import nltk\n",
    "import contractions\n",
    "import matplotlib.pyplot as plt\n",
    "import matplotlib.ticker as mticker\n",
    "import seaborn as sns\n",
    "import warnings\n",
    "import text_preprocessing as tp\n",
    "import utils\n",
    "import ml_models as md\n",
    "import spacy\n",
    "import seaborn as sb\n",
    "import demoji\n",
    "import contractions\n",
    "\n",
    "from nltk.corpus import stopwords\n",
    "from nltk.corpus import words\n",
    "from nltk.stem import WordNetLemmatizer\n",
    "from flashtext import KeywordProcessor\n",
    "from wordcloud import WordCloud\n",
    "from sklearn.preprocessing import LabelEncoder\n",
    "from sklearn.model_selection import train_test_split\n",
    "from collections import Counter\n",
    "from transformers import AutoTokenizer\n",
    "from transformers import TFAutoModelForSequenceClassification\n",
    "from sklearn.metrics import classification_report\n",
    "from sklearn.metrics import confusion_matrix\n",
    "from sklearn.metrics import accuracy_score\n",
    "from sklearn.metrics import recall_score\n",
    "from sklearn.metrics import precision_score\n",
    "from sklearn.metrics import roc_curve\n",
    "from sklearn.metrics import roc_auc_score\n",
    "\n",
    "\n",
    "warnings.filterwarnings(\"ignore\")"
   ]
  },
  {
   "cell_type": "markdown",
   "metadata": {},
   "source": [
    "## Importing Dataset for Flight Data\n",
    "\n",
    "Use the Kaggle dataset containing information about tweets related to flights will be utilized in the process of traning the model.\n",
    "\n",
    "__a. Data Source:__ https://www.kaggle.com/datasets/crowdflower/twitter-airline-sentiment"
   ]
  },
  {
   "cell_type": "code",
   "execution_count": 2,
   "metadata": {},
   "outputs": [
    {
     "data": {
      "text/html": [
       "<div>\n",
       "<style scoped>\n",
       "    .dataframe tbody tr th:only-of-type {\n",
       "        vertical-align: middle;\n",
       "    }\n",
       "\n",
       "    .dataframe tbody tr th {\n",
       "        vertical-align: top;\n",
       "    }\n",
       "\n",
       "    .dataframe thead th {\n",
       "        text-align: right;\n",
       "    }\n",
       "</style>\n",
       "<table border=\"1\" class=\"dataframe\">\n",
       "  <thead>\n",
       "    <tr style=\"text-align: right;\">\n",
       "      <th></th>\n",
       "      <th>airline_name</th>\n",
       "      <th>link</th>\n",
       "      <th>title</th>\n",
       "      <th>author</th>\n",
       "      <th>author_country</th>\n",
       "      <th>date</th>\n",
       "      <th>content</th>\n",
       "      <th>aircraft</th>\n",
       "      <th>type_traveller</th>\n",
       "      <th>cabin_flown</th>\n",
       "      <th>route</th>\n",
       "      <th>overall_rating</th>\n",
       "      <th>seat_comfort_rating</th>\n",
       "      <th>cabin_staff_rating</th>\n",
       "      <th>food_beverages_rating</th>\n",
       "      <th>inflight_entertainment_rating</th>\n",
       "      <th>ground_service_rating</th>\n",
       "      <th>wifi_connectivity_rating</th>\n",
       "      <th>value_money_rating</th>\n",
       "      <th>recommended</th>\n",
       "    </tr>\n",
       "  </thead>\n",
       "  <tbody>\n",
       "    <tr>\n",
       "      <th>0</th>\n",
       "      <td>adria-airways</td>\n",
       "      <td>/airline-reviews/adria-airways</td>\n",
       "      <td>Adria Airways customer review</td>\n",
       "      <td>D Ito</td>\n",
       "      <td>Germany</td>\n",
       "      <td>2015-04-10</td>\n",
       "      <td>Outbound flight FRA/PRN A319. 2 hours 10 min f...</td>\n",
       "      <td>NaN</td>\n",
       "      <td>NaN</td>\n",
       "      <td>Economy</td>\n",
       "      <td>NaN</td>\n",
       "      <td>7.0</td>\n",
       "      <td>4.0</td>\n",
       "      <td>4.0</td>\n",
       "      <td>4.0</td>\n",
       "      <td>0.0</td>\n",
       "      <td>NaN</td>\n",
       "      <td>NaN</td>\n",
       "      <td>4.0</td>\n",
       "      <td>1</td>\n",
       "    </tr>\n",
       "    <tr>\n",
       "      <th>1</th>\n",
       "      <td>adria-airways</td>\n",
       "      <td>/airline-reviews/adria-airways</td>\n",
       "      <td>Adria Airways customer review</td>\n",
       "      <td>Ron Kuhlmann</td>\n",
       "      <td>United States</td>\n",
       "      <td>2015-01-05</td>\n",
       "      <td>Two short hops ZRH-LJU and LJU-VIE. Very fast ...</td>\n",
       "      <td>NaN</td>\n",
       "      <td>NaN</td>\n",
       "      <td>Business Class</td>\n",
       "      <td>NaN</td>\n",
       "      <td>10.0</td>\n",
       "      <td>4.0</td>\n",
       "      <td>5.0</td>\n",
       "      <td>4.0</td>\n",
       "      <td>1.0</td>\n",
       "      <td>NaN</td>\n",
       "      <td>NaN</td>\n",
       "      <td>5.0</td>\n",
       "      <td>1</td>\n",
       "    </tr>\n",
       "    <tr>\n",
       "      <th>2</th>\n",
       "      <td>adria-airways</td>\n",
       "      <td>/airline-reviews/adria-airways</td>\n",
       "      <td>Adria Airways customer review</td>\n",
       "      <td>E Albin</td>\n",
       "      <td>Switzerland</td>\n",
       "      <td>2014-09-14</td>\n",
       "      <td>Flew Zurich-Ljubljana on JP365 newish CRJ900. ...</td>\n",
       "      <td>NaN</td>\n",
       "      <td>NaN</td>\n",
       "      <td>Economy</td>\n",
       "      <td>NaN</td>\n",
       "      <td>9.0</td>\n",
       "      <td>5.0</td>\n",
       "      <td>5.0</td>\n",
       "      <td>4.0</td>\n",
       "      <td>0.0</td>\n",
       "      <td>NaN</td>\n",
       "      <td>NaN</td>\n",
       "      <td>5.0</td>\n",
       "      <td>1</td>\n",
       "    </tr>\n",
       "    <tr>\n",
       "      <th>3</th>\n",
       "      <td>adria-airways</td>\n",
       "      <td>/airline-reviews/adria-airways</td>\n",
       "      <td>Adria Airways customer review</td>\n",
       "      <td>Tercon Bojan</td>\n",
       "      <td>Singapore</td>\n",
       "      <td>2014-09-06</td>\n",
       "      <td>Adria serves this 100 min flight from Ljubljan...</td>\n",
       "      <td>NaN</td>\n",
       "      <td>NaN</td>\n",
       "      <td>Business Class</td>\n",
       "      <td>NaN</td>\n",
       "      <td>8.0</td>\n",
       "      <td>4.0</td>\n",
       "      <td>4.0</td>\n",
       "      <td>3.0</td>\n",
       "      <td>1.0</td>\n",
       "      <td>NaN</td>\n",
       "      <td>NaN</td>\n",
       "      <td>4.0</td>\n",
       "      <td>1</td>\n",
       "    </tr>\n",
       "    <tr>\n",
       "      <th>4</th>\n",
       "      <td>adria-airways</td>\n",
       "      <td>/airline-reviews/adria-airways</td>\n",
       "      <td>Adria Airways customer review</td>\n",
       "      <td>L James</td>\n",
       "      <td>Poland</td>\n",
       "      <td>2014-06-16</td>\n",
       "      <td>WAW-SKJ Economy. No free snacks or drinks on t...</td>\n",
       "      <td>NaN</td>\n",
       "      <td>NaN</td>\n",
       "      <td>Economy</td>\n",
       "      <td>NaN</td>\n",
       "      <td>4.0</td>\n",
       "      <td>4.0</td>\n",
       "      <td>2.0</td>\n",
       "      <td>1.0</td>\n",
       "      <td>2.0</td>\n",
       "      <td>NaN</td>\n",
       "      <td>NaN</td>\n",
       "      <td>2.0</td>\n",
       "      <td>0</td>\n",
       "    </tr>\n",
       "  </tbody>\n",
       "</table>\n",
       "</div>"
      ],
      "text/plain": [
       "    airline_name                            link  \\\n",
       "0  adria-airways  /airline-reviews/adria-airways   \n",
       "1  adria-airways  /airline-reviews/adria-airways   \n",
       "2  adria-airways  /airline-reviews/adria-airways   \n",
       "3  adria-airways  /airline-reviews/adria-airways   \n",
       "4  adria-airways  /airline-reviews/adria-airways   \n",
       "\n",
       "                           title        author author_country        date  \\\n",
       "0  Adria Airways customer review         D Ito        Germany  2015-04-10   \n",
       "1  Adria Airways customer review  Ron Kuhlmann  United States  2015-01-05   \n",
       "2  Adria Airways customer review       E Albin    Switzerland  2014-09-14   \n",
       "3  Adria Airways customer review  Tercon Bojan      Singapore  2014-09-06   \n",
       "4  Adria Airways customer review       L James         Poland  2014-06-16   \n",
       "\n",
       "                                             content aircraft type_traveller  \\\n",
       "0  Outbound flight FRA/PRN A319. 2 hours 10 min f...      NaN            NaN   \n",
       "1  Two short hops ZRH-LJU and LJU-VIE. Very fast ...      NaN            NaN   \n",
       "2  Flew Zurich-Ljubljana on JP365 newish CRJ900. ...      NaN            NaN   \n",
       "3  Adria serves this 100 min flight from Ljubljan...      NaN            NaN   \n",
       "4  WAW-SKJ Economy. No free snacks or drinks on t...      NaN            NaN   \n",
       "\n",
       "      cabin_flown route  overall_rating  seat_comfort_rating  \\\n",
       "0         Economy   NaN             7.0                  4.0   \n",
       "1  Business Class   NaN            10.0                  4.0   \n",
       "2         Economy   NaN             9.0                  5.0   \n",
       "3  Business Class   NaN             8.0                  4.0   \n",
       "4         Economy   NaN             4.0                  4.0   \n",
       "\n",
       "   cabin_staff_rating  food_beverages_rating  inflight_entertainment_rating  \\\n",
       "0                 4.0                    4.0                            0.0   \n",
       "1                 5.0                    4.0                            1.0   \n",
       "2                 5.0                    4.0                            0.0   \n",
       "3                 4.0                    3.0                            1.0   \n",
       "4                 2.0                    1.0                            2.0   \n",
       "\n",
       "   ground_service_rating  wifi_connectivity_rating  value_money_rating  \\\n",
       "0                    NaN                       NaN                 4.0   \n",
       "1                    NaN                       NaN                 5.0   \n",
       "2                    NaN                       NaN                 5.0   \n",
       "3                    NaN                       NaN                 4.0   \n",
       "4                    NaN                       NaN                 2.0   \n",
       "\n",
       "   recommended  \n",
       "0            1  \n",
       "1            1  \n",
       "2            1  \n",
       "3            1  \n",
       "4            0  "
      ]
     },
     "execution_count": 2,
     "metadata": {},
     "output_type": "execute_result"
    }
   ],
   "source": [
    "# Open file containing flight data\n",
    "flight_review_df = pd.read_csv(\"./Dataset/Reviews/airline.csv\")\n",
    "flight_review_df.head(5)"
   ]
  },
  {
   "cell_type": "code",
   "execution_count": 3,
   "metadata": {},
   "outputs": [
    {
     "data": {
      "text/plain": [
       "Index(['airline_name', 'link', 'title', 'author', 'author_country', 'date',\n",
       "       'content', 'aircraft', 'type_traveller', 'cabin_flown', 'route',\n",
       "       'overall_rating', 'seat_comfort_rating', 'cabin_staff_rating',\n",
       "       'food_beverages_rating', 'inflight_entertainment_rating',\n",
       "       'ground_service_rating', 'wifi_connectivity_rating',\n",
       "       'value_money_rating', 'recommended'],\n",
       "      dtype='object')"
      ]
     },
     "execution_count": 3,
     "metadata": {},
     "output_type": "execute_result"
    }
   ],
   "source": [
    "# List all the columns in flight data's dataframe\n",
    "flight_review_df.columns"
   ]
  },
  {
   "cell_type": "markdown",
   "metadata": {},
   "source": [
    "## Exploratory Data Analysis"
   ]
  },
  {
   "cell_type": "markdown",
   "metadata": {},
   "source": [
    "Drop columns that are not relevant"
   ]
  },
  {
   "cell_type": "code",
   "execution_count": 4,
   "metadata": {},
   "outputs": [
    {
     "data": {
      "text/html": [
       "<div>\n",
       "<style scoped>\n",
       "    .dataframe tbody tr th:only-of-type {\n",
       "        vertical-align: middle;\n",
       "    }\n",
       "\n",
       "    .dataframe tbody tr th {\n",
       "        vertical-align: top;\n",
       "    }\n",
       "\n",
       "    .dataframe thead th {\n",
       "        text-align: right;\n",
       "    }\n",
       "</style>\n",
       "<table border=\"1\" class=\"dataframe\">\n",
       "  <thead>\n",
       "    <tr style=\"text-align: right;\">\n",
       "      <th></th>\n",
       "      <th>date</th>\n",
       "      <th>content</th>\n",
       "      <th>overall_rating</th>\n",
       "      <th>recommended</th>\n",
       "    </tr>\n",
       "  </thead>\n",
       "  <tbody>\n",
       "    <tr>\n",
       "      <th>0</th>\n",
       "      <td>2015-04-10</td>\n",
       "      <td>Outbound flight FRA/PRN A319. 2 hours 10 min f...</td>\n",
       "      <td>7.0</td>\n",
       "      <td>1</td>\n",
       "    </tr>\n",
       "    <tr>\n",
       "      <th>1</th>\n",
       "      <td>2015-01-05</td>\n",
       "      <td>Two short hops ZRH-LJU and LJU-VIE. Very fast ...</td>\n",
       "      <td>10.0</td>\n",
       "      <td>1</td>\n",
       "    </tr>\n",
       "    <tr>\n",
       "      <th>2</th>\n",
       "      <td>2014-09-14</td>\n",
       "      <td>Flew Zurich-Ljubljana on JP365 newish CRJ900. ...</td>\n",
       "      <td>9.0</td>\n",
       "      <td>1</td>\n",
       "    </tr>\n",
       "    <tr>\n",
       "      <th>3</th>\n",
       "      <td>2014-09-06</td>\n",
       "      <td>Adria serves this 100 min flight from Ljubljan...</td>\n",
       "      <td>8.0</td>\n",
       "      <td>1</td>\n",
       "    </tr>\n",
       "    <tr>\n",
       "      <th>4</th>\n",
       "      <td>2014-06-16</td>\n",
       "      <td>WAW-SKJ Economy. No free snacks or drinks on t...</td>\n",
       "      <td>4.0</td>\n",
       "      <td>0</td>\n",
       "    </tr>\n",
       "  </tbody>\n",
       "</table>\n",
       "</div>"
      ],
      "text/plain": [
       "         date                                            content  \\\n",
       "0  2015-04-10  Outbound flight FRA/PRN A319. 2 hours 10 min f...   \n",
       "1  2015-01-05  Two short hops ZRH-LJU and LJU-VIE. Very fast ...   \n",
       "2  2014-09-14  Flew Zurich-Ljubljana on JP365 newish CRJ900. ...   \n",
       "3  2014-09-06  Adria serves this 100 min flight from Ljubljan...   \n",
       "4  2014-06-16  WAW-SKJ Economy. No free snacks or drinks on t...   \n",
       "\n",
       "   overall_rating  recommended  \n",
       "0             7.0            1  \n",
       "1            10.0            1  \n",
       "2             9.0            1  \n",
       "3             8.0            1  \n",
       "4             4.0            0  "
      ]
     },
     "execution_count": 4,
     "metadata": {},
     "output_type": "execute_result"
    }
   ],
   "source": [
    "# Drop columns that are not relevant\n",
    "del_columns = ['airline_name', 'link', 'title', 'author','author_country','aircraft', 'type_traveller', 'cabin_flown', 'route','seat_comfort_rating','cabin_staff_rating','food_beverages_rating', 'inflight_entertainment_rating', 'ground_service_rating', 'wifi_connectivity_rating','value_money_rating']\n",
    "flight_review_df = flight_review_df.drop(del_columns, axis=1)\n",
    "\n",
    "flight_review_df.head(5)"
   ]
  },
  {
   "cell_type": "markdown",
   "metadata": {},
   "source": [
    "Drop duplicate records in flight data"
   ]
  },
  {
   "cell_type": "code",
   "execution_count": 5,
   "metadata": {},
   "outputs": [
    {
     "name": "stdout",
     "output_type": "stream",
     "text": [
      "Record count before removing duplicates => 41396\n",
      "Record count after removing duplicates  => 41392\n"
     ]
    }
   ],
   "source": [
    "print(f\"Record count before removing duplicates => {flight_review_df.shape[0]}\")\n",
    "flight_review_df.drop_duplicates(inplace=True)\n",
    "print(f\"Record count after removing duplicates  => {flight_review_df.shape[0]}\")"
   ]
  },
  {
   "cell_type": "markdown",
   "metadata": {},
   "source": [
    "Check and resolve missing values for `flight data`"
   ]
  },
  {
   "cell_type": "code",
   "execution_count": 6,
   "metadata": {},
   "outputs": [
    {
     "name": "stdout",
     "output_type": "stream",
     "text": [
      "Number of missing values in the 'content' column: 0\n"
     ]
    }
   ],
   "source": [
    "missing_content_values = flight_review_df['content'].isnull().sum()\n",
    "\n",
    "print(f\"Number of missing values in the 'content' column: {missing_content_values}\")"
   ]
  },
  {
   "cell_type": "code",
   "execution_count": 7,
   "metadata": {},
   "outputs": [
    {
     "name": "stdout",
     "output_type": "stream",
     "text": [
      "Number of missing values in the 'overall_rating' column: 4535\n"
     ]
    }
   ],
   "source": [
    "missing_overall_rating_values = flight_review_df['overall_rating'].isnull().sum()\n",
    "\n",
    "print(f\"Number of missing values in the 'overall_rating' column: {missing_overall_rating_values}\")"
   ]
  },
  {
   "cell_type": "code",
   "execution_count": 8,
   "metadata": {},
   "outputs": [
    {
     "name": "stdout",
     "output_type": "stream",
     "text": [
      "Records with missing values:\n",
      "             date                                            content  \\\n",
      "35     2007-10-04  BRU-LJU-BRU. Outward flight on a CRJ200 very n...   \n",
      "36     2007-08-08  I often fly with Adria (50 flights per year). ...   \n",
      "37     2007-07-14  LGW-LJU-LGW on an older but clean A320. Outwar...   \n",
      "38     2007-03-24  Frankfurt-Ljubljana-Munich in business class: ...   \n",
      "39     2006-10-09  Zurich-Ljubljana return. About 2 hours+ journe...   \n",
      "...           ...                                                ...   \n",
      "41374  2010-12-18  We pre-booked a transfer through Wizz Air for ...   \n",
      "41377  2010-11-17  Luton-Prague-Luton. Poor service rude cabin cr...   \n",
      "41378  2010-11-16  Budapest to London with A320 almost 7 hrs dela...   \n",
      "41391  2010-07-15  This airline is terrible! Timetable changes (m...   \n",
      "41393  2010-06-19  Avoid Wizzair! A group of us had our outgoing ...   \n",
      "\n",
      "       overall_rating  recommended  \n",
      "35                NaN            0  \n",
      "36                NaN            0  \n",
      "37                NaN            0  \n",
      "38                NaN            0  \n",
      "39                NaN            0  \n",
      "...               ...          ...  \n",
      "41374             NaN            0  \n",
      "41377             NaN            0  \n",
      "41378             NaN            0  \n",
      "41391             NaN            0  \n",
      "41393             NaN            0  \n",
      "\n",
      "[4535 rows x 4 columns]\n",
      "No missing values found in the 'overall_rating' column after replacement.\n"
     ]
    }
   ],
   "source": [
    "try:\n",
    "    # Check for missing values in flight data\n",
    "    missing_values = flight_review_df.isna().sum()\n",
    "    \n",
    "    # Check if there are any missing values\n",
    "    if missing_values.sum() > 0:\n",
    "        # Display records with missing values\n",
    "        print(\"Records with missing values:\")\n",
    "        missing_records = flight_review_df[flight_review_df.isna().any(axis=1)]\n",
    "        print(missing_records)\n",
    "\n",
    "        # Replace missing values in 'overall_rating' based on 'recommended' column\n",
    "        flight_review_df.loc[(flight_review_df['overall_rating'].isnull()) & (flight_review_df['recommended'] == 0), 'overall_rating'] = 3\n",
    "        flight_review_df.loc[(flight_review_df['overall_rating'].isnull()) & (flight_review_df['recommended'] == 1), 'overall_rating'] = 9\n",
    "\n",
    "        # Check for missing values again after replacement\n",
    "        updated_missing_values = flight_review_df['overall_rating'].isnull().sum()\n",
    "        if updated_missing_values > 0:\n",
    "            print(f\"There are still {updated_missing_values} missing values in the 'overall_rating' column after replacement.\")\n",
    "        else:\n",
    "            print(\"No missing values found in the 'overall_rating' column after replacement.\")\n",
    "    else:\n",
    "        print(\"No missing values found in the flight data.\")\n",
    "except Exception as e:\n",
    "    print(f\"An error occurred: {str(e)}\")\n"
   ]
  },
  {
   "cell_type": "code",
   "execution_count": 9,
   "metadata": {},
   "outputs": [
    {
     "name": "stdout",
     "output_type": "stream",
     "text": [
      "Rating Distribution Table:\n",
      "         Count  Percentage\n",
      "1.0     5390.0   13.021840\n",
      "2.0     2996.0    7.238114\n",
      "3.0     6844.0   16.534596\n",
      "4.0     1808.0    4.367994\n",
      "5.0     2538.0    6.131620\n",
      "6.0     1813.0    4.380073\n",
      "7.0     3336.0    8.059528\n",
      "8.0     5328.0   12.872053\n",
      "9.0     5478.0   13.234441\n",
      "10.0    5861.0   14.159741\n",
      "Total  41392.0  100.000000\n"
     ]
    },
    {
     "data": {
      "image/png": "[encoded data removed]",
      "text/plain": [
       "<Figure size 800x600 with 1 Axes>"
      ]
     },
     "metadata": {},
     "output_type": "display_data"
    }
   ],
   "source": [
    "# Count values and calculate percentages, including NaN values\n",
    "rating_counts = flight_review_df['overall_rating'].value_counts().sort_index()\n",
    "total_records = len(flight_review_df)\n",
    "rating_percentages = (rating_counts / total_records) * 100\n",
    "\n",
    "# Create a table using Pandas, including NaN values\n",
    "rating_table = pd.DataFrame({'Count': rating_counts, 'Percentage': rating_percentages})\n",
    "rating_table.index = rating_table.index.fillna('NaN')\n",
    "\n",
    "# Add a row for the total count and percentage\n",
    "total_count = rating_counts.sum()\n",
    "total_percentage = 100.0  # Total percentage is always 100%\n",
    "rating_table.loc['Total'] = [total_count, total_percentage]\n",
    "\n",
    "# Print the table\n",
    "print(\"Rating Distribution Table:\")\n",
    "print(rating_table)\n",
    "\n",
    "# Create a bar plot for visualization, including NaN values\n",
    "plt.figure(figsize=(8, 6))\n",
    "rating_counts.plot(kind='bar', color='skyblue', edgecolor='black')\n",
    "plt.title('Rating Distribution')\n",
    "plt.xlabel('Rating')\n",
    "plt.ylabel('Count')\n",
    "plt.xticks(rotation=0)\n",
    "\n",
    "# Display the percentage on top of the bars, including NaN values\n",
    "for i, count in enumerate(rating_counts):\n",
    "    label = f'{count} ({rating_percentages[rating_counts.index[i]]:.2f}%)'\n",
    "    plt.text(i, count + 0.5, label, ha='center')\n",
    "\n",
    "plt.tight_layout()\n",
    "plt.show()\n"
   ]
  },
  {
   "cell_type": "code",
   "execution_count": 10,
   "metadata": {},
   "outputs": [
    {
     "name": "stdout",
     "output_type": "stream",
     "text": [
      "DataFrame has been exported to ./Exported_DF/imputed_df_1700844753.csv\n"
     ]
    }
   ],
   "source": [
    "import time\n",
    "\n",
    "# Generate a unique file name with an epoch timestamp\n",
    "timestamp = int(time.time())\n",
    "output_file_path = f'./Exported_DF/imputed_df_{timestamp}.csv'\n",
    "\n",
    "# Export the DataFrame to a CSV file with the unique timestamped file name\n",
    "flight_review_df.to_csv(output_file_path, index=False)\n",
    "\n",
    "print(f'DataFrame has been exported to {output_file_path}')"
   ]
  },
  {
   "cell_type": "code",
   "execution_count": 11,
   "metadata": {},
   "outputs": [
    {
     "data": {
      "image/png": "[encoded data removed]",
      "text/plain": [
       "<Figure size 800x600 with 1 Axes>"
      ]
     },
     "metadata": {},
     "output_type": "display_data"
    }
   ],
   "source": [
    "# Function to categorize sentiment based on 'overall_rating'\n",
    "def categorize_sentiment(rating):\n",
    "    if 8 <= rating <= 10:\n",
    "        return 'positive'\n",
    "    elif 5 <= rating <= 7:\n",
    "        return 'neutral'\n",
    "    elif 1 <= rating <= 4:\n",
    "        return 'negative'\n",
    "    else:\n",
    "        return 'unknown'\n",
    "\n",
    "# Create the 'airline_sentiment' column based on 'overall_rating'\n",
    "flight_review_df['airline_sentiment'] = flight_review_df['overall_rating'].apply(categorize_sentiment)\n",
    "\n",
    "# Count values and calculate percentages\n",
    "sentiment_counts = flight_review_df['airline_sentiment'].value_counts().sort_index()\n",
    "total_records = len(flight_review_df)\n",
    "sentiment_percentages = (sentiment_counts / total_records) * 100\n",
    "\n",
    "# Define colors for the sentiments\n",
    "colors = {'positive': 'green', 'neutral': 'yellow', 'negative': 'red'}\n",
    "\n",
    "# Create a bar plot with specified colors\n",
    "plt.figure(figsize=(8, 6))\n",
    "sentiment_counts.plot(kind='bar', color=[colors[sentiment] for sentiment in sentiment_counts.index], edgecolor='black')\n",
    "plt.title('Airline Sentiment Distribution')\n",
    "plt.xlabel('Sentiment')\n",
    "plt.ylabel('Count')\n",
    "plt.xticks(rotation=0)\n",
    "\n",
    "# Display the percentage on top of the bars\n",
    "for i, count in enumerate(sentiment_counts):\n",
    "    plt.text(i, count + 0.5, f'{count} ({sentiment_percentages[i]:.2f}%)', ha='center')\n",
    "\n",
    "plt.tight_layout()\n",
    "plt.show()\n",
    "\n"
   ]
  },
  {
   "cell_type": "markdown",
   "metadata": {},
   "source": [
    "#### __Data Wrangling__:\n",
    "\n",
    "Conduct data wrangling on `flight metadata` to transform and structure data into a desired format"
   ]
  },
  {
   "cell_type": "code",
   "execution_count": 12,
   "metadata": {},
   "outputs": [
    {
     "data": {
      "text/html": [
       "<div>\n",
       "<style scoped>\n",
       "    .dataframe tbody tr th:only-of-type {\n",
       "        vertical-align: middle;\n",
       "    }\n",
       "\n",
       "    .dataframe tbody tr th {\n",
       "        vertical-align: top;\n",
       "    }\n",
       "\n",
       "    .dataframe thead th {\n",
       "        text-align: right;\n",
       "    }\n",
       "</style>\n",
       "<table border=\"1\" class=\"dataframe\">\n",
       "  <thead>\n",
       "    <tr style=\"text-align: right;\">\n",
       "      <th></th>\n",
       "      <th>date</th>\n",
       "      <th>review</th>\n",
       "      <th>overall_rating</th>\n",
       "      <th>recommended</th>\n",
       "      <th>airline_sentiment</th>\n",
       "    </tr>\n",
       "  </thead>\n",
       "  <tbody>\n",
       "    <tr>\n",
       "      <th>0</th>\n",
       "      <td>2015-04-10</td>\n",
       "      <td>Outbound flight FRA/PRN A319. 2 hours 10 min f...</td>\n",
       "      <td>7.0</td>\n",
       "      <td>1</td>\n",
       "      <td>neutral</td>\n",
       "    </tr>\n",
       "    <tr>\n",
       "      <th>1</th>\n",
       "      <td>2015-01-05</td>\n",
       "      <td>Two short hops ZRH-LJU and LJU-VIE. Very fast ...</td>\n",
       "      <td>10.0</td>\n",
       "      <td>1</td>\n",
       "      <td>positive</td>\n",
       "    </tr>\n",
       "    <tr>\n",
       "      <th>2</th>\n",
       "      <td>2014-09-14</td>\n",
       "      <td>Flew Zurich-Ljubljana on JP365 newish CRJ900. ...</td>\n",
       "      <td>9.0</td>\n",
       "      <td>1</td>\n",
       "      <td>positive</td>\n",
       "    </tr>\n",
       "    <tr>\n",
       "      <th>3</th>\n",
       "      <td>2014-09-06</td>\n",
       "      <td>Adria serves this 100 min flight from Ljubljan...</td>\n",
       "      <td>8.0</td>\n",
       "      <td>1</td>\n",
       "      <td>positive</td>\n",
       "    </tr>\n",
       "    <tr>\n",
       "      <th>4</th>\n",
       "      <td>2014-06-16</td>\n",
       "      <td>WAW-SKJ Economy. No free snacks or drinks on t...</td>\n",
       "      <td>4.0</td>\n",
       "      <td>0</td>\n",
       "      <td>negative</td>\n",
       "    </tr>\n",
       "    <tr>\n",
       "      <th>5</th>\n",
       "      <td>2014-06-08</td>\n",
       "      <td>Sarajevo-Frankfurt via Ljubljana. I loved flyi...</td>\n",
       "      <td>9.0</td>\n",
       "      <td>1</td>\n",
       "      <td>positive</td>\n",
       "    </tr>\n",
       "    <tr>\n",
       "      <th>6</th>\n",
       "      <td>2014-06-01</td>\n",
       "      <td>I had flights from Paris to Sarajevo via Ljubl...</td>\n",
       "      <td>5.0</td>\n",
       "      <td>1</td>\n",
       "      <td>neutral</td>\n",
       "    </tr>\n",
       "    <tr>\n",
       "      <th>7</th>\n",
       "      <td>2014-05-10</td>\n",
       "      <td>LJU to FRA and back both flights were on time....</td>\n",
       "      <td>9.0</td>\n",
       "      <td>1</td>\n",
       "      <td>positive</td>\n",
       "    </tr>\n",
       "    <tr>\n",
       "      <th>8</th>\n",
       "      <td>2014-01-13</td>\n",
       "      <td>On my Ljubljana - Munich flight in business cl...</td>\n",
       "      <td>8.0</td>\n",
       "      <td>1</td>\n",
       "      <td>positive</td>\n",
       "    </tr>\n",
       "    <tr>\n",
       "      <th>9</th>\n",
       "      <td>2014-01-06</td>\n",
       "      <td>Flights from LJU to ZRH and back all on time. ...</td>\n",
       "      <td>10.0</td>\n",
       "      <td>1</td>\n",
       "      <td>positive</td>\n",
       "    </tr>\n",
       "    <tr>\n",
       "      <th>10</th>\n",
       "      <td>2013-10-22</td>\n",
       "      <td>I was very satisfied with the CRJ 900 on my fl...</td>\n",
       "      <td>9.0</td>\n",
       "      <td>1</td>\n",
       "      <td>positive</td>\n",
       "    </tr>\n",
       "    <tr>\n",
       "      <th>11</th>\n",
       "      <td>2013-08-28</td>\n",
       "      <td>I was on JP650 the evening departure to Istanb...</td>\n",
       "      <td>7.0</td>\n",
       "      <td>1</td>\n",
       "      <td>neutral</td>\n",
       "    </tr>\n",
       "    <tr>\n",
       "      <th>12</th>\n",
       "      <td>2013-08-19</td>\n",
       "      <td>VIE-LJU LJU-MUC Aug 4-15th CRJ200. Both flight...</td>\n",
       "      <td>8.0</td>\n",
       "      <td>1</td>\n",
       "      <td>positive</td>\n",
       "    </tr>\n",
       "    <tr>\n",
       "      <th>13</th>\n",
       "      <td>2013-08-19</td>\n",
       "      <td>If I have to fly a regional jet then I prefer ...</td>\n",
       "      <td>7.0</td>\n",
       "      <td>1</td>\n",
       "      <td>neutral</td>\n",
       "    </tr>\n",
       "    <tr>\n",
       "      <th>14</th>\n",
       "      <td>2013-06-10</td>\n",
       "      <td>Istanbul-Ljubljana-Munich and return. Pre-take...</td>\n",
       "      <td>7.0</td>\n",
       "      <td>1</td>\n",
       "      <td>neutral</td>\n",
       "    </tr>\n",
       "    <tr>\n",
       "      <th>15</th>\n",
       "      <td>2013-05-27</td>\n",
       "      <td>Return flight Paris-Skopje via Ljubljana. All ...</td>\n",
       "      <td>5.0</td>\n",
       "      <td>1</td>\n",
       "      <td>neutral</td>\n",
       "    </tr>\n",
       "    <tr>\n",
       "      <th>16</th>\n",
       "      <td>2012-10-08</td>\n",
       "      <td>BEG-LJU-BEG with CRJ200 great regional airline...</td>\n",
       "      <td>9.0</td>\n",
       "      <td>1</td>\n",
       "      <td>positive</td>\n",
       "    </tr>\n",
       "    <tr>\n",
       "      <th>17</th>\n",
       "      <td>2012-07-04</td>\n",
       "      <td>I fly at least once a month ZRH-LJU-ZRH. My ex...</td>\n",
       "      <td>5.0</td>\n",
       "      <td>1</td>\n",
       "      <td>neutral</td>\n",
       "    </tr>\n",
       "    <tr>\n",
       "      <th>18</th>\n",
       "      <td>2012-06-17</td>\n",
       "      <td>LTN to LJU outbound with CRJ200 return with CR...</td>\n",
       "      <td>5.0</td>\n",
       "      <td>1</td>\n",
       "      <td>neutral</td>\n",
       "    </tr>\n",
       "    <tr>\n",
       "      <th>19</th>\n",
       "      <td>2012-06-12</td>\n",
       "      <td>Ljubljana to Brussels with CRJ900. Boarding on...</td>\n",
       "      <td>8.0</td>\n",
       "      <td>1</td>\n",
       "      <td>positive</td>\n",
       "    </tr>\n",
       "  </tbody>\n",
       "</table>\n",
       "</div>"
      ],
      "text/plain": [
       "          date                                             review  \\\n",
       "0   2015-04-10  Outbound flight FRA/PRN A319. 2 hours 10 min f...   \n",
       "1   2015-01-05  Two short hops ZRH-LJU and LJU-VIE. Very fast ...   \n",
       "2   2014-09-14  Flew Zurich-Ljubljana on JP365 newish CRJ900. ...   \n",
       "3   2014-09-06  Adria serves this 100 min flight from Ljubljan...   \n",
       "4   2014-06-16  WAW-SKJ Economy. No free snacks or drinks on t...   \n",
       "5   2014-06-08  Sarajevo-Frankfurt via Ljubljana. I loved flyi...   \n",
       "6   2014-06-01  I had flights from Paris to Sarajevo via Ljubl...   \n",
       "7   2014-05-10  LJU to FRA and back both flights were on time....   \n",
       "8   2014-01-13  On my Ljubljana - Munich flight in business cl...   \n",
       "9   2014-01-06  Flights from LJU to ZRH and back all on time. ...   \n",
       "10  2013-10-22  I was very satisfied with the CRJ 900 on my fl...   \n",
       "11  2013-08-28  I was on JP650 the evening departure to Istanb...   \n",
       "12  2013-08-19  VIE-LJU LJU-MUC Aug 4-15th CRJ200. Both flight...   \n",
       "13  2013-08-19  If I have to fly a regional jet then I prefer ...   \n",
       "14  2013-06-10  Istanbul-Ljubljana-Munich and return. Pre-take...   \n",
       "15  2013-05-27  Return flight Paris-Skopje via Ljubljana. All ...   \n",
       "16  2012-10-08  BEG-LJU-BEG with CRJ200 great regional airline...   \n",
       "17  2012-07-04  I fly at least once a month ZRH-LJU-ZRH. My ex...   \n",
       "18  2012-06-17  LTN to LJU outbound with CRJ200 return with CR...   \n",
       "19  2012-06-12  Ljubljana to Brussels with CRJ900. Boarding on...   \n",
       "\n",
       "    overall_rating  recommended airline_sentiment  \n",
       "0              7.0            1           neutral  \n",
       "1             10.0            1          positive  \n",
       "2              9.0            1          positive  \n",
       "3              8.0            1          positive  \n",
       "4              4.0            0          negative  \n",
       "5              9.0            1          positive  \n",
       "6              5.0            1           neutral  \n",
       "7              9.0            1          positive  \n",
       "8              8.0            1          positive  \n",
       "9             10.0            1          positive  \n",
       "10             9.0            1          positive  \n",
       "11             7.0            1           neutral  \n",
       "12             8.0            1          positive  \n",
       "13             7.0            1           neutral  \n",
       "14             7.0            1           neutral  \n",
       "15             5.0            1           neutral  \n",
       "16             9.0            1          positive  \n",
       "17             5.0            1           neutral  \n",
       "18             5.0            1           neutral  \n",
       "19             8.0            1          positive  "
      ]
     },
     "execution_count": 12,
     "metadata": {},
     "output_type": "execute_result"
    }
   ],
   "source": [
    "# Rename the 'content' column to 'review'\n",
    "flight_review_df.rename(columns={'content': 'review'}, inplace=True)\n",
    "\n",
    "# Show DataFrame to check if 'review' column instead of 'content'\n",
    "flight_review_df.head(20)"
   ]
  },
  {
   "cell_type": "code",
   "execution_count": 13,
   "metadata": {},
   "outputs": [
    {
     "data": {
      "text/html": [
       "<div>\n",
       "<style scoped>\n",
       "    .dataframe tbody tr th:only-of-type {\n",
       "        vertical-align: middle;\n",
       "    }\n",
       "\n",
       "    .dataframe tbody tr th {\n",
       "        vertical-align: top;\n",
       "    }\n",
       "\n",
       "    .dataframe thead th {\n",
       "        text-align: right;\n",
       "    }\n",
       "</style>\n",
       "<table border=\"1\" class=\"dataframe\">\n",
       "  <thead>\n",
       "    <tr style=\"text-align: right;\">\n",
       "      <th></th>\n",
       "      <th>date</th>\n",
       "      <th>review</th>\n",
       "      <th>overall_rating</th>\n",
       "      <th>recommended</th>\n",
       "      <th>airline_sentiment</th>\n",
       "      <th>review_date</th>\n",
       "      <th>review_year</th>\n",
       "      <th>review_month</th>\n",
       "    </tr>\n",
       "  </thead>\n",
       "  <tbody>\n",
       "    <tr>\n",
       "      <th>0</th>\n",
       "      <td>2015-04-10</td>\n",
       "      <td>Outbound flight FRA/PRN A319. 2 hours 10 min f...</td>\n",
       "      <td>7.0</td>\n",
       "      <td>1</td>\n",
       "      <td>neutral</td>\n",
       "      <td>2015-04-10</td>\n",
       "      <td>2015</td>\n",
       "      <td>4</td>\n",
       "    </tr>\n",
       "    <tr>\n",
       "      <th>1</th>\n",
       "      <td>2015-01-05</td>\n",
       "      <td>Two short hops ZRH-LJU and LJU-VIE. Very fast ...</td>\n",
       "      <td>10.0</td>\n",
       "      <td>1</td>\n",
       "      <td>positive</td>\n",
       "      <td>2015-01-05</td>\n",
       "      <td>2015</td>\n",
       "      <td>1</td>\n",
       "    </tr>\n",
       "    <tr>\n",
       "      <th>2</th>\n",
       "      <td>2014-09-14</td>\n",
       "      <td>Flew Zurich-Ljubljana on JP365 newish CRJ900. ...</td>\n",
       "      <td>9.0</td>\n",
       "      <td>1</td>\n",
       "      <td>positive</td>\n",
       "      <td>2014-09-14</td>\n",
       "      <td>2014</td>\n",
       "      <td>9</td>\n",
       "    </tr>\n",
       "    <tr>\n",
       "      <th>3</th>\n",
       "      <td>2014-09-06</td>\n",
       "      <td>Adria serves this 100 min flight from Ljubljan...</td>\n",
       "      <td>8.0</td>\n",
       "      <td>1</td>\n",
       "      <td>positive</td>\n",
       "      <td>2014-09-06</td>\n",
       "      <td>2014</td>\n",
       "      <td>9</td>\n",
       "    </tr>\n",
       "    <tr>\n",
       "      <th>4</th>\n",
       "      <td>2014-06-16</td>\n",
       "      <td>WAW-SKJ Economy. No free snacks or drinks on t...</td>\n",
       "      <td>4.0</td>\n",
       "      <td>0</td>\n",
       "      <td>negative</td>\n",
       "      <td>2014-06-16</td>\n",
       "      <td>2014</td>\n",
       "      <td>6</td>\n",
       "    </tr>\n",
       "  </tbody>\n",
       "</table>\n",
       "</div>"
      ],
      "text/plain": [
       "         date                                             review  \\\n",
       "0  2015-04-10  Outbound flight FRA/PRN A319. 2 hours 10 min f...   \n",
       "1  2015-01-05  Two short hops ZRH-LJU and LJU-VIE. Very fast ...   \n",
       "2  2014-09-14  Flew Zurich-Ljubljana on JP365 newish CRJ900. ...   \n",
       "3  2014-09-06  Adria serves this 100 min flight from Ljubljan...   \n",
       "4  2014-06-16  WAW-SKJ Economy. No free snacks or drinks on t...   \n",
       "\n",
       "   overall_rating  recommended airline_sentiment review_date  review_year  \\\n",
       "0             7.0            1           neutral  2015-04-10         2015   \n",
       "1            10.0            1          positive  2015-01-05         2015   \n",
       "2             9.0            1          positive  2014-09-14         2014   \n",
       "3             8.0            1          positive  2014-09-06         2014   \n",
       "4             4.0            0          negative  2014-06-16         2014   \n",
       "\n",
       "   review_month  \n",
       "0             4  \n",
       "1             1  \n",
       "2             9  \n",
       "3             9  \n",
       "4             6  "
      ]
     },
     "execution_count": 13,
     "metadata": {},
     "output_type": "execute_result"
    }
   ],
   "source": [
    "# Convert 'date' to datetime\n",
    "flight_review_df['review_date'] = pd.to_datetime(flight_review_df['date'])\n",
    "\n",
    "# Extract year, month into separate columns\n",
    "flight_review_df['review_year'] = flight_review_df['review_date'].dt.year\n",
    "flight_review_df['review_month'] = flight_review_df['review_date'].dt.month\n",
    "\n",
    "flight_review_df.head(5)"
   ]
  },
  {
   "cell_type": "code",
   "execution_count": 14,
   "metadata": {},
   "outputs": [
    {
     "data": {
      "text/plain": [
       "<Figure size 800x600 with 0 Axes>"
      ]
     },
     "metadata": {},
     "output_type": "display_data"
    },
    {
     "data": {
      "image/png": "[encoded data removed]",
      "text/plain": [
       "<Figure size 640x480 with 1 Axes>"
      ]
     },
     "metadata": {},
     "output_type": "display_data"
    }
   ],
   "source": [
    "# Convert 'date' to datetime\n",
    "flight_review_df['review_date'] = pd.to_datetime(flight_review_df['date'])\n",
    "\n",
    "# Extract year, month into separate columns\n",
    "flight_review_df['review_year'] = flight_review_df['review_date'].dt.year\n",
    "flight_review_df['review_month'] = flight_review_df['review_date'].dt.month\n",
    "\n",
    "# Create a pivot table to count sentiments per month\n",
    "pivot_table = flight_review_df.pivot_table(index='review_month', columns='airline_sentiment', aggfunc='size', fill_value=0)\n",
    "\n",
    "# Reorder columns to match the desired order: Negative, Neutral, Positive\n",
    "pivot_table = pivot_table[['negative', 'neutral', 'positive']]\n",
    "\n",
    "# Define colors for the bars\n",
    "colors = ['red', 'yellow', 'green']\n",
    "\n",
    "# Create a stacked bar plot with specified colors\n",
    "plt.figure(figsize=(8, 6))\n",
    "pivot_table.plot(kind='bar', stacked=True, color=colors)\n",
    "plt.title('Sentiment Distribution Per Month')\n",
    "plt.xlabel('Month')\n",
    "plt.ylabel('Number of Reviews')\n",
    "plt.xticks(rotation=0)\n",
    "plt.legend(title='Sentiment')\n",
    "\n",
    "plt.tight_layout()\n",
    "plt.show()\n"
   ]
  },
  {
   "cell_type": "code",
   "execution_count": 15,
   "metadata": {},
   "outputs": [
    {
     "data": {
      "text/html": [
       "<div>\n",
       "<style scoped>\n",
       "    .dataframe tbody tr th:only-of-type {\n",
       "        vertical-align: middle;\n",
       "    }\n",
       "\n",
       "    .dataframe tbody tr th {\n",
       "        vertical-align: top;\n",
       "    }\n",
       "\n",
       "    .dataframe thead th {\n",
       "        text-align: right;\n",
       "    }\n",
       "</style>\n",
       "<table border=\"1\" class=\"dataframe\">\n",
       "  <thead>\n",
       "    <tr style=\"text-align: right;\">\n",
       "      <th></th>\n",
       "      <th>overall_rating</th>\n",
       "      <th>recommended</th>\n",
       "      <th>review_year</th>\n",
       "      <th>review_month</th>\n",
       "    </tr>\n",
       "  </thead>\n",
       "  <tbody>\n",
       "    <tr>\n",
       "      <th>count</th>\n",
       "      <td>41392.000000</td>\n",
       "      <td>41392.000000</td>\n",
       "      <td>41392.000000</td>\n",
       "      <td>41392.000000</td>\n",
       "    </tr>\n",
       "    <tr>\n",
       "      <th>mean</th>\n",
       "      <td>5.716129</td>\n",
       "      <td>0.533799</td>\n",
       "      <td>2013.059359</td>\n",
       "      <td>6.284548</td>\n",
       "    </tr>\n",
       "    <tr>\n",
       "      <th>std</th>\n",
       "      <td>3.179545</td>\n",
       "      <td>0.498862</td>\n",
       "      <td>1.859187</td>\n",
       "      <td>3.302498</td>\n",
       "    </tr>\n",
       "    <tr>\n",
       "      <th>min</th>\n",
       "      <td>1.000000</td>\n",
       "      <td>0.000000</td>\n",
       "      <td>1970.000000</td>\n",
       "      <td>1.000000</td>\n",
       "    </tr>\n",
       "    <tr>\n",
       "      <th>25%</th>\n",
       "      <td>3.000000</td>\n",
       "      <td>0.000000</td>\n",
       "      <td>2012.000000</td>\n",
       "      <td>4.000000</td>\n",
       "    </tr>\n",
       "    <tr>\n",
       "      <th>50%</th>\n",
       "      <td>6.000000</td>\n",
       "      <td>1.000000</td>\n",
       "      <td>2014.000000</td>\n",
       "      <td>6.000000</td>\n",
       "    </tr>\n",
       "    <tr>\n",
       "      <th>75%</th>\n",
       "      <td>9.000000</td>\n",
       "      <td>1.000000</td>\n",
       "      <td>2014.000000</td>\n",
       "      <td>9.000000</td>\n",
       "    </tr>\n",
       "    <tr>\n",
       "      <th>max</th>\n",
       "      <td>10.000000</td>\n",
       "      <td>1.000000</td>\n",
       "      <td>2015.000000</td>\n",
       "      <td>12.000000</td>\n",
       "    </tr>\n",
       "  </tbody>\n",
       "</table>\n",
       "</div>"
      ],
      "text/plain": [
       "       overall_rating   recommended   review_year  review_month\n",
       "count    41392.000000  41392.000000  41392.000000  41392.000000\n",
       "mean         5.716129      0.533799   2013.059359      6.284548\n",
       "std          3.179545      0.498862      1.859187      3.302498\n",
       "min          1.000000      0.000000   1970.000000      1.000000\n",
       "25%          3.000000      0.000000   2012.000000      4.000000\n",
       "50%          6.000000      1.000000   2014.000000      6.000000\n",
       "75%          9.000000      1.000000   2014.000000      9.000000\n",
       "max         10.000000      1.000000   2015.000000     12.000000"
      ]
     },
     "execution_count": 15,
     "metadata": {},
     "output_type": "execute_result"
    }
   ],
   "source": [
    "# Show statistical summary of flight review\n",
    "flight_review_df.describe()"
   ]
  },
  {
   "cell_type": "markdown",
   "metadata": {},
   "source": [
    "#### __For Text Pre-processing__:\n",
    "\n",
    "__The flight review undergo the following steps during the initial data pre-processing stage__\n",
    "- Remove non-grammatical text like emails and URLs\n",
    "- Remove \"at the rate\" and #\n",
    "- Replace emojis with English word/s\n",
    "- Handle contractions\n",
    "- Handle slang words"
   ]
  },
  {
   "cell_type": "code",
   "execution_count": 16,
   "metadata": {},
   "outputs": [],
   "source": [
    "# Download the emoji library data\n",
    "demoji.download_codes()\n",
    "\n",
    "# Extract emojis from all reviews\n",
    "all_emojis = flight_review_df['review'].apply(lambda x : list(demoji.findall(x).keys())).sum()\n",
    "\n",
    "# Count the frequency of each emoji\n",
    "emoji_counts = Counter(all_emojis)\n",
    "\n",
    "# Get the top 10 emojis by frequency\n",
    "top_10_emojis = emoji_counts.most_common(10)\n",
    "\n",
    "# Display the top 10 emojis and their frequencies\n",
    "for emoji, count in top_10_emojis:\n",
    "    print(f\"Emoji: {emoji}, Count: {count}\")"
   ]
  },
  {
   "cell_type": "code",
   "execution_count": 17,
   "metadata": {},
   "outputs": [
    {
     "name": "stdout",
     "output_type": "stream",
     "text": [
      "ERROR: [Errno 2] No such file or directory: './dictionary/slang_words_dictionary.pkl'\n",
      "Original Review:\n",
      "Outbound flight FRA/PRN A319. 2 hours 10 min flight. I thought drinks/snacks for sale but sandwich soft drinks were served complimentary. Inbound flights SKP/LJU/FRA CRJ900. each 1 hour 30 min flight. Skyshop menu was in a seat pocket and drinks/snacks were for sale. All flight crews were friendly. Security check at the Ljubljana airport for transit passengers was chaos however it's possible to go to a gate within 30min.\n",
      "\n",
      "Cleaned Review Summary:\n",
      "Outbound flight FRA/PRN A319. 2 hours 10 min flight. I thought drinks/snacks for sale but sandwich soft drinks were served complimentary. Inbound flights SKP/LJU/FRA CRJ900. each 1 hour 30 min flight. Skyshop menu was in a seat pocket and drinks/snacks were for sale. All flight crews were friendly. Security check at the Ljubljana airport for transit passengers was chaos however it is possible to go to a gate within 30min.\n",
      "====================================================================================================\n",
      "Original Review:\n",
      "Two short hops ZRH-LJU and LJU-VIE. Very fast on CRJ 90. Seats comfortable and crew was fine. Ground services good and lounge was quite nice.\n",
      "\n",
      "Cleaned Review Summary:\n",
      "Two short hops ZRH-LJU and LJU-VIE. Very fast on CRJ 90. Seats comfortable and crew was fine. Ground services good and lounge was quite nice.\n",
      "====================================================================================================\n",
      "Original Review:\n",
      "Flew Zurich-Ljubljana on JP365 newish CRJ900. Flight almost full departure on time. Service on board by 2 pleasant and friendly female flight attendants. I bought coffee mineral water and a very nice and fresh filled croissant for EUR 6. Good value!\n",
      "\n",
      "Cleaned Review Summary:\n",
      "Flew Zurich-Ljubljana on JP365 newish CRJ900. Flight almost full departure on time. Service on board by 2 pleasant and friendly female flight attendants. I bought coffee mineral water and a very nice and fresh filled croissant for EUR 6. Good value!\n",
      "====================================================================================================\n",
      "Original Review:\n",
      "Adria serves this 100 min flight from Ljubljana to Amsterdam on a brand new CRJ900 Next Gen which has a hugely improved cabin. Much more spacious higher ceiling and with big windows. The seats seem to be more comfortable and have more legroom. The business class is not separated from the main cabin though not even with the standard back seat curtain. The food offering could be slightly improved for usually I've had good meals on Adria.\n",
      "\n",
      "Cleaned Review Summary:\n",
      "Adria serves this 100 min flight from Ljubljana to Amsterdam on a brand new CRJ900 Next Gen which has a hugely improved cabin. Much more spacious higher ceiling and with big windows. The seats seem to be more comfortable and have more legroom. The business class is not separated from the main cabin though not even with the standard back seat curtain. The food offering could be slightly improved for usually I have had good meals on Adria.\n",
      "====================================================================================================\n",
      "Original Review:\n",
      "WAW-SKJ Economy. No free snacks or drinks on this Star Alliance partner. Just full legacy carrier fares for basically a budget airline. Flying out of Poland had no Euros or USD on me. I was thirsty and asked to purchase a bottle of water. The stewardess said that I could not buy it and could not use a credit card or purchase it in cash without their preferred currency. When I pointed out that they were able to sell duty free with visa cards she huffed and puffed and basically said it would be \"difficult\". She never offered me a tiny cup of water. On the way back I switched to Turkish Airlines via IST and got a free 3 course meal on both segments and friendly service.\n",
      "\n",
      "Cleaned Review Summary:\n",
      "WAW-SKJ Economy. No free snacks or drinks on this Star Alliance partner. Just full legacy carrier fares for basically a budget airline. Flying out of Poland had no Euros or USD on me. I was thirsty and asked to purchase a bottle of water. The stewardess said that I could not buy it and could not use a credit card or purchase it in cash without their preferred currency. When I pointed out that they were able to sell duty free with visa cards she huffed and puffed and basically said it would be \"difficult\". She never offered me a tiny cup of water. On the way back I switched to Turkish Airlines via IST and got a free 3 course meal on both segments and friendly service.\n",
      "====================================================================================================\n"
     ]
    }
   ],
   "source": [
    "slang_word_dict = tp.get_slang_words(webscraped=True)\n",
    "emoji_dict = tp.get_emojis()\n",
    "\n",
    "def initial_text_preprocessing(text):\n",
    "    try:\n",
    "        # Remove non-grammatical text\n",
    "        text = tp.remove_email_address(text)\n",
    "        text = tp.remove_hyperlink(text)\n",
    "        text = tp.replace_html_char(text)\n",
    "        text = tp.remove_attherate(text)\n",
    "        text = tp.remove_hashtag(text)    \n",
    "\n",
    "        # Replace emojis in the 'review' column\n",
    "        text = tp.replace_emojis_unicode(text)\n",
    "        text = emoji_dict.replace_keywords(text)\n",
    "\n",
    "        # Handle contractions\n",
    "        text = contractions.fix(text)\n",
    "\n",
    "        # Replace slang words\n",
    "        text = slang_word_dict.replace_keywords(text)\n",
    "\n",
    "    except Exception as err:\n",
    "        print(f\"ERROR: {err}\")\n",
    "        print(f\"Input Text: {text}\")\n",
    "\n",
    "    return text\n",
    "\n",
    "\n",
    "flight_review_df['cleaned_review'] = flight_review_df['review'].apply(initial_text_preprocessing)\n",
    "\n",
    "# Display the comparison between the top 5 original review summaries and their cleaned versions\n",
    "for i in range(5):\n",
    "    print(\"Original Review:\")\n",
    "    print(flight_review_df['review'][i])\n",
    "    print(\"\\nCleaned Review Summary:\")\n",
    "    print(flight_review_df['cleaned_review'][i])\n",
    "    print(\"=\"*100)"
   ]
  },
  {
   "cell_type": "markdown",
   "metadata": {},
   "source": [
    "__Utilize regular expressions to eliminate punctuation, substitute whitespaces, and filter out stopwords from flight reviews__"
   ]
  },
  {
   "cell_type": "code",
   "execution_count": 18,
   "metadata": {},
   "outputs": [
    {
     "name": "stderr",
     "output_type": "stream",
     "text": [
      "[nltk_data] Downloading package stopwords to\n",
      "[nltk_data]     C:\\Users\\aurad\\AppData\\Roaming\\nltk_data...\n",
      "[nltk_data]   Package stopwords is already up-to-date!\n"
     ]
    },
    {
     "name": "stdout",
     "output_type": "stream",
     "text": [
      "Original Review:\n",
      "Outbound flight FRA/PRN A319. 2 hours 10 min flight. I thought drinks/snacks for sale but sandwich soft drinks were served complimentary. Inbound flights SKP/LJU/FRA CRJ900. each 1 hour 30 min flight. Skyshop menu was in a seat pocket and drinks/snacks were for sale. All flight crews were friendly. Security check at the Ljubljana airport for transit passengers was chaos however it's possible to go to a gate within 30min.\n",
      "\n",
      "Cleaned Review (Extra Whitespaces Removed, Stopwords Removed):\n",
      "Outbound flight hours min flight I thought sale sandwich soft drinks served complimentary Inbound flights hour min flight Skyshop menu seat pocket sale All flight crews friendly Security check Ljubljana airport transit passengers chaos however possible go gate within\n",
      "====================================================================================================\n",
      "Original Review:\n",
      "Two short hops ZRH-LJU and LJU-VIE. Very fast on CRJ 90. Seats comfortable and crew was fine. Ground services good and lounge was quite nice.\n",
      "\n",
      "Cleaned Review (Extra Whitespaces Removed, Stopwords Removed):\n",
      "Two short hops Very fast CRJ Seats comfortable crew fine Ground services good lounge quite nice\n",
      "====================================================================================================\n",
      "Original Review:\n",
      "Flew Zurich-Ljubljana on JP365 newish CRJ900. Flight almost full departure on time. Service on board by 2 pleasant and friendly female flight attendants. I bought coffee mineral water and a very nice and fresh filled croissant for EUR 6. Good value!\n",
      "\n",
      "Cleaned Review (Extra Whitespaces Removed, Stopwords Removed):\n",
      "Flew newish Flight almost full departure time Service board pleasant friendly female flight attendants I bought coffee mineral water nice fresh filled croissant EUR Good value\n",
      "====================================================================================================\n",
      "Original Review:\n",
      "Adria serves this 100 min flight from Ljubljana to Amsterdam on a brand new CRJ900 Next Gen which has a hugely improved cabin. Much more spacious higher ceiling and with big windows. The seats seem to be more comfortable and have more legroom. The business class is not separated from the main cabin though not even with the standard back seat curtain. The food offering could be slightly improved for usually I've had good meals on Adria.\n",
      "\n",
      "Cleaned Review (Extra Whitespaces Removed, Stopwords Removed):\n",
      "Adria serves min flight Ljubljana Amsterdam brand new Next Gen hugely improved cabin Much spacious higher ceiling big windows The seats seem comfortable legroom The business class not separated main cabin though not even standard back seat curtain The food offering could slightly improved usually I good meals Adria\n",
      "====================================================================================================\n",
      "Original Review:\n",
      "WAW-SKJ Economy. No free snacks or drinks on this Star Alliance partner. Just full legacy carrier fares for basically a budget airline. Flying out of Poland had no Euros or USD on me. I was thirsty and asked to purchase a bottle of water. The stewardess said that I could not buy it and could not use a credit card or purchase it in cash without their preferred currency. When I pointed out that they were able to sell duty free with visa cards she huffed and puffed and basically said it would be \"difficult\". She never offered me a tiny cup of water. On the way back I switched to Turkish Airlines via IST and got a free 3 course meal on both segments and friendly service.\n",
      "\n",
      "Cleaned Review (Extra Whitespaces Removed, Stopwords Removed):\n",
      "Economy No free snacks drinks Star Alliance partner Just full legacy carrier fares basically budget airline Flying Poland Euros USD I thirsty asked purchase bottle water The stewardess said I could not buy could not use credit card purchase cash without preferred currency When I pointed able sell duty free visa cards huffed puffed basically said would difficult She never offered tiny cup water On way back I switched Turkish Airlines via IST got free course meal segments friendly service\n",
      "====================================================================================================\n"
     ]
    }
   ],
   "source": [
    "nltk.download('stopwords')\n",
    "\n",
    "\n",
    "# Initialize the English stop words list\n",
    "list_of_stopwords = set(stopwords.words('english')) - set(['not'])\n",
    "\n",
    "def supplemental_text_preprocessing(text):\n",
    "\n",
    "    # Remove leading and trailing whitespaces\n",
    "    text = text.strip()\n",
    "\n",
    "    # Replace multiple whitespaces with a single space\n",
    "    text = tp.replace_whitespace(text)\n",
    "\n",
    "    # Remove stopwords\n",
    "    text = tp.remove_stopwords(text, list_of_stopwords)\n",
    "\n",
    "    return text\n",
    "\n",
    "# Apply text cleaning to 'cleaned_review' column\n",
    "flight_review_df['cleaned_review'] = flight_review_df['cleaned_review'].apply(supplemental_text_preprocessing)\n",
    "\n",
    "# Display the comparison between the top 5 original review and their cleaned versions\n",
    "for i in range(5):\n",
    "    print(\"Original Review:\")\n",
    "    print(flight_review_df['review'][i])\n",
    "    print(\"\\nCleaned Review (Extra Whitespaces Removed, Stopwords Removed):\")\n",
    "    print(flight_review_df['cleaned_review'][i])\n",
    "    print(\"=\"*100)"
   ]
  },
  {
   "cell_type": "markdown",
   "metadata": {},
   "source": [
    "Show data frequency for each sentiment"
   ]
  },
  {
   "cell_type": "code",
   "execution_count": 19,
   "metadata": {},
   "outputs": [
    {
     "data": {
      "image/png": "[encoded data removed]",
      "text/plain": [
       "<Figure size 1000x500 with 1 Axes>"
      ]
     },
     "metadata": {},
     "output_type": "display_data"
    }
   ],
   "source": [
    "# Define the colors for each sentiment\n",
    "sentiment_colors = {\n",
    "    'negative': 'red',\n",
    "    'neutral': 'orange',\n",
    "    'positive': 'green'\n",
    "}\n",
    "\n",
    "# Count the reviews based on dataset Sentiment Level\n",
    "sentiment_counts = flight_review_df['airline_sentiment'].value_counts().sort_index()\n",
    "sentiments = sentiment_counts.index\n",
    "colors = [sentiment_colors[s] for s in sentiments]\n",
    "\n",
    "# Create the bar chart\n",
    "ax = sentiment_counts.plot(kind='bar', title='Count of Sentiment Level', figsize=(10, 5), color=colors)\n",
    "\n",
    "ax.set_xlabel('Sentiment Level')\n",
    "\n",
    "# Add a custom legend for sentiments\n",
    "legend_labels = {\n",
    "    'negative': 'Negative',\n",
    "    'neutral': 'Neutral',\n",
    "    'positive': 'Positive'\n",
    "}\n",
    "\n",
    "legend_handles = [plt.Rectangle((0, 0), 1, 1, color=sentiment_colors[s], alpha=0.6, label=label)\n",
    "                  for s, label in legend_labels.items()]\n",
    "\n",
    "ax.legend(handles=legend_handles, loc='upper right')\n",
    "\n",
    "plt.show()\n"
   ]
  },
  {
   "cell_type": "code",
   "execution_count": 20,
   "metadata": {},
   "outputs": [
    {
     "data": {
      "text/html": [
       "<div>\n",
       "<style scoped>\n",
       "    .dataframe tbody tr th:only-of-type {\n",
       "        vertical-align: middle;\n",
       "    }\n",
       "\n",
       "    .dataframe tbody tr th {\n",
       "        vertical-align: top;\n",
       "    }\n",
       "\n",
       "    .dataframe thead th {\n",
       "        text-align: right;\n",
       "    }\n",
       "</style>\n",
       "<table border=\"1\" class=\"dataframe\">\n",
       "  <thead>\n",
       "    <tr style=\"text-align: right;\">\n",
       "      <th></th>\n",
       "      <th>review</th>\n",
       "      <th>cleaned_review</th>\n",
       "      <th>airline_sentiment</th>\n",
       "      <th>overall_rating</th>\n",
       "    </tr>\n",
       "  </thead>\n",
       "  <tbody>\n",
       "    <tr>\n",
       "      <th>0</th>\n",
       "      <td>Outbound flight FRA/PRN A319. 2 hours 10 min f...</td>\n",
       "      <td>Outbound flight hours min flight I thought sal...</td>\n",
       "      <td>neutral</td>\n",
       "      <td>7.0</td>\n",
       "    </tr>\n",
       "    <tr>\n",
       "      <th>1</th>\n",
       "      <td>Two short hops ZRH-LJU and LJU-VIE. Very fast ...</td>\n",
       "      <td>Two short hops Very fast CRJ Seats comfortable...</td>\n",
       "      <td>positive</td>\n",
       "      <td>10.0</td>\n",
       "    </tr>\n",
       "    <tr>\n",
       "      <th>2</th>\n",
       "      <td>Flew Zurich-Ljubljana on JP365 newish CRJ900. ...</td>\n",
       "      <td>Flew newish Flight almost full departure time ...</td>\n",
       "      <td>positive</td>\n",
       "      <td>9.0</td>\n",
       "    </tr>\n",
       "    <tr>\n",
       "      <th>3</th>\n",
       "      <td>Adria serves this 100 min flight from Ljubljan...</td>\n",
       "      <td>Adria serves min flight Ljubljana Amsterdam br...</td>\n",
       "      <td>positive</td>\n",
       "      <td>8.0</td>\n",
       "    </tr>\n",
       "    <tr>\n",
       "      <th>4</th>\n",
       "      <td>WAW-SKJ Economy. No free snacks or drinks on t...</td>\n",
       "      <td>Economy No free snacks drinks Star Alliance pa...</td>\n",
       "      <td>negative</td>\n",
       "      <td>4.0</td>\n",
       "    </tr>\n",
       "  </tbody>\n",
       "</table>\n",
       "</div>"
      ],
      "text/plain": [
       "                                              review  \\\n",
       "0  Outbound flight FRA/PRN A319. 2 hours 10 min f...   \n",
       "1  Two short hops ZRH-LJU and LJU-VIE. Very fast ...   \n",
       "2  Flew Zurich-Ljubljana on JP365 newish CRJ900. ...   \n",
       "3  Adria serves this 100 min flight from Ljubljan...   \n",
       "4  WAW-SKJ Economy. No free snacks or drinks on t...   \n",
       "\n",
       "                                      cleaned_review airline_sentiment  \\\n",
       "0  Outbound flight hours min flight I thought sal...           neutral   \n",
       "1  Two short hops Very fast CRJ Seats comfortable...          positive   \n",
       "2  Flew newish Flight almost full departure time ...          positive   \n",
       "3  Adria serves min flight Ljubljana Amsterdam br...          positive   \n",
       "4  Economy No free snacks drinks Star Alliance pa...          negative   \n",
       "\n",
       "   overall_rating  \n",
       "0             7.0  \n",
       "1            10.0  \n",
       "2             9.0  \n",
       "3             8.0  \n",
       "4             4.0  "
      ]
     },
     "execution_count": 20,
     "metadata": {},
     "output_type": "execute_result"
    }
   ],
   "source": [
    "# Rearrange the order of columns\n",
    "desired_order = ['review', 'cleaned_review', 'airline_sentiment','overall_rating']\n",
    "flight_review_df = flight_review_df[desired_order]\n",
    "flight_review_df.head(5)"
   ]
  },
  {
   "cell_type": "markdown",
   "metadata": {},
   "source": [
    "## Pre-trained Model Predictions and Evaluation\n",
    "\n",
    "Execute the two pre-trained models for sentiment analysis, namely VADER and RoBERTa, then get their predictions\n",
    "\n",
    "__1. VADER (Valence Aware Dictionary for Sentiment Reasoning)__\n",
    "\n",
    "VADER is a pre-trained sentiment analysis model designed for analyzing the sentiment of text, particularly in the context of social media. Developed by researchers at the Georgia Institute of Technology, VADER is specifically tuned to handle the nuances of sentiment expressed in short and informal texts, such as tweets or online comments."
   ]
  },
  {
   "cell_type": "code",
   "execution_count": 21,
   "metadata": {},
   "outputs": [
    {
     "name": "stdout",
     "output_type": "stream",
     "text": [
      "Parallel processing of flight airline reviews...\n"
     ]
    }
   ],
   "source": [
    "def process_vader_sentiment(df):\n",
    "    # Generate sentiments using VADER\n",
    "    df['vader_sentiment'] = df['cleaned_review'].apply(lambda x : md.generate_vader_labels(x))\n",
    "\n",
    "    # Flag to check if vader sentiments match with the airline sentiments\n",
    "    df['vader_is_matched'] = df['vader_sentiment'] == df['airline_sentiment']\n",
    "\n",
    "    return df\n",
    "\n",
    "\n",
    "try:  \n",
    "    print(\"Parallel processing of flight airline reviews...\")\n",
    "    flight_review_df = utils.parallel_processing(flight_review_df, process_vader_sentiment)\n",
    "\n",
    "    display(flight_review_df.head(10))\n",
    "except Exception as err:\n",
    "    print(f\"ERROR: {err}\")"
   ]
  },
  {
   "cell_type": "markdown",
   "metadata": {},
   "source": [
    "__2. RoBERTa (Robustly Optimized BERT Pre-training)__\n",
    "\n",
    "RoBERTa is a natural language processing (NLP) model developed by Facebook AI. It is an extension and optimization of the BERT (Bidirectional Encoder Representations from Transformers) model architecture. RoBERTa was introduced to address some limitations and enhance the performance of BERT."
   ]
  },
  {
   "cell_type": "code",
   "execution_count": null,
   "metadata": {},
   "outputs": [
    {
     "name": "stderr",
     "output_type": "stream",
     "text": [
      "All model checkpoint layers were used when initializing TFRobertaForSequenceClassification.\n",
      "\n",
      "All the layers of TFRobertaForSequenceClassification were initialized from the model checkpoint at cardiffnlp/twitter-roberta-base-sentiment.\n",
      "If your task is similar to the task the model of the checkpoint was trained on, you can already use TFRobertaForSequenceClassification for predictions without further training.\n"
     ]
    },
    {
     "name": "stdout",
     "output_type": "stream",
     "text": [
      "Parallel processing of flight airline reviews...\n"
     ]
    }
   ],
   "source": [
    "MODEL = \"cardiffnlp/twitter-roberta-base-sentiment\"\n",
    "tokenizer = AutoTokenizer.from_pretrained(MODEL)\n",
    "model = TFAutoModelForSequenceClassification.from_pretrained(MODEL)\n",
    "\n",
    "def process_roberta_sentiment(df):\n",
    "    # Generate sentiments using RoBERTa\n",
    "    df['roberta_sentiment'] = df['cleaned_review'].apply(lambda x : md.generate_roberta_labels(x, model, tokenizer))\n",
    "\n",
    "    # Flag to check if vader sentiments match with the airline sentiments\n",
    "    df['roberta_is_matched'] = df['roberta_sentiment'] == df['airline_sentiment']\n",
    "\n",
    "    return df\n",
    "\n",
    "\n",
    "try:  \n",
    "    print(\"Parallel processing of flight airline reviews...\")\n",
    "    flight_review_df = utils.parallel_processing(flight_review_df, process_roberta_sentiment)\n",
    "\n",
    "    display(flight_review_df.head(10))\n",
    "except Exception as err:\n",
    "    print(f\"ERROR: {err}\")"
   ]
  },
  {
   "cell_type": "markdown",
   "metadata": {},
   "source": [
    "#### __Feature Engineering:__\n",
    "\n",
    "Convert airline, RoBERTa and VADER sentiment labels to numerical representation [Negative:0, Neutral:1, Positive:2]"
   ]
  },
  {
   "cell_type": "code",
   "execution_count": null,
   "metadata": {},
   "outputs": [],
   "source": [
    "encoder = LabelEncoder()\n",
    "flight_review_df['airline_sentiment_encoded'] = encoder.fit_transform(flight_review_df['airline_sentiment'])\n",
    "flight_review_df['vader_sentiment_encoded'] = encoder.fit_transform(flight_review_df['vader_sentiment'])\n",
    "flight_review_df['roberta_sentiment_encoded'] = encoder.fit_transform(flight_review_df['roberta_sentiment'])\n",
    "flight_review_df.head(5)"
   ]
  },
  {
   "cell_type": "markdown",
   "metadata": {},
   "source": [
    "#### __Model Evaluation:__"
   ]
  },
  {
   "cell_type": "code",
   "execution_count": null,
   "metadata": {},
   "outputs": [],
   "source": [
    "airline_sentiments = flight_review_df['airline_sentiment_encoded']\n",
    "roberta_predictions = flight_review_df['vader_sentiment_encoded']\n",
    "vader_predictions = flight_review_df['roberta_sentiment_encoded']"
   ]
  },
  {
   "cell_type": "markdown",
   "metadata": {},
   "source": [
    "__For VADER:__"
   ]
  },
  {
   "cell_type": "code",
   "execution_count": null,
   "metadata": {},
   "outputs": [
    {
     "name": "stdout",
     "output_type": "stream",
     "text": [
      "Classification Report for VADER Predictions\n",
      "\n",
      "              precision    recall  f1-score   support\n",
      "\n",
      "           0       0.94      0.69      0.80      9116\n",
      "           1       0.46      0.70      0.56      3092\n",
      "           2       0.66      0.89      0.76      2353\n",
      "\n",
      "    accuracy                           0.73     14561\n",
      "   macro avg       0.69      0.76      0.70     14561\n",
      "weighted avg       0.79      0.73      0.74     14561\n",
      "\n"
     ]
    },
    {
     "data": {
      "text/plain": [
       "Text(50.722222222222214, 0.5, 'Predicted Class')"
      ]
     },
     "execution_count": 21,
     "metadata": {},
     "output_type": "execute_result"
    },
    {
     "data": {
      "image/png": "[encoded data removed]",
      "text/plain": [
       "<Figure size 640x480 with 2 Axes>"
      ]
     },
     "metadata": {},
     "output_type": "display_data"
    }
   ],
   "source": [
    "print(\"Classification Report for VADER Predictions\\n\")\n",
    "print(classification_report(airline_sentiments, vader_predictions))\n",
    "\n",
    "# Create a confusion matrix\n",
    "class_labels = ['Negative', 'Neutral', 'Positive']\n",
    "cm = confusion_matrix(airline_sentiments, vader_predictions)\n",
    "cm_matrix = pd.DataFrame(data=cm, columns=class_labels, index=class_labels)\n",
    "\n",
    "sb.heatmap(cm_matrix, cmap='Greens', annot=True, fmt='d', annot_kws={\"size\": 12})\n",
    "\n",
    "plt.title('Confusion Matrix: Airline Sentiments vs. VADER Predictions', fontsize=14, fontweight='bold')\n",
    "plt.xlabel('Actual Class', fontweight='bold')\n",
    "plt.ylabel('Predicted Class', fontweight='bold')"
   ]
  },
  {
   "cell_type": "markdown",
   "metadata": {},
   "source": [
    "__For RoBERTa:__"
   ]
  },
  {
   "cell_type": "code",
   "execution_count": null,
   "metadata": {},
   "outputs": [
    {
     "name": "stdout",
     "output_type": "stream",
     "text": [
      "Classification Report for RoBERTa Predictions\n",
      "\n",
      "              precision    recall  f1-score   support\n",
      "\n",
      "           0       0.90      0.40      0.56      9116\n",
      "           1       0.36      0.36      0.36      3092\n",
      "           2       0.29      0.90      0.43      2353\n",
      "\n",
      "    accuracy                           0.47     14561\n",
      "   macro avg       0.51      0.55      0.45     14561\n",
      "weighted avg       0.69      0.47      0.50     14561\n",
      "\n"
     ]
    },
    {
     "data": {
      "text/plain": [
       "Text(50.722222222222214, 0.5, 'Predicted Class')"
      ]
     },
     "execution_count": 22,
     "metadata": {},
     "output_type": "execute_result"
    },
    {
     "data": {
      "image/png": "[encoded data removed]",
      "text/plain": [
       "<Figure size 640x480 with 2 Axes>"
      ]
     },
     "metadata": {},
     "output_type": "display_data"
    }
   ],
   "source": [
    "print(\"Classification Report for RoBERTa Predictions\\n\")\n",
    "print(classification_report(airline_sentiments, roberta_predictions))\n",
    "\n",
    "# Create a confusion matrix\n",
    "class_labels = ['Negative', 'Neutral', 'Positive']\n",
    "cm = confusion_matrix(airline_sentiments, roberta_predictions)\n",
    "cm_matrix = pd.DataFrame(data=cm, columns=class_labels, index=class_labels)\n",
    "\n",
    "sb.heatmap(cm_matrix, cmap='Greens', annot=True, fmt='d', annot_kws={\"size\": 12})\n",
    "\n",
    "plt.title('Confusion Matrix: Airline Sentiments vs. RoBERTa Predictions', fontsize=14, fontweight='bold')\n",
    "plt.xlabel('Actual Class', fontweight='bold')\n",
    "plt.ylabel('Predicted Class', fontweight='bold')"
   ]
  },
  {
   "cell_type": "markdown",
   "metadata": {},
   "source": [
    "## Group Members\n",
    "- Auradee Castro\n",
    "- Bhumika Rajendra Babu\n",
    "- Miraj Sinya\n",
    "- Olivia Deguit\n",
    "- Roger Mais"
   ]
  }
 ],
 "metadata": {
  "kernelspec": {
   "display_name": "Python 3",
   "language": "python",
   "name": "python3"
  },
  "language_info": {
   "codemirror_mode": {
    "name": "ipython",
    "version": 3
   },
   "file_extension": ".py",
   "mimetype": "text/x-python",
   "name": "python",
   "nbconvert_exporter": "python",
   "pygments_lexer": "ipython3",
   "version": "3.10.7"
  }
 },
 "nbformat": 4,
 "nbformat_minor": 2
}
